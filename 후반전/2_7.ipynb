{
 "cells": [
  {
   "cell_type": "code",
   "execution_count": 11,
   "metadata": {},
   "outputs": [
    {
     "ename": "ValueError",
     "evalue": "invalid literal for int() with base 10: ''",
     "output_type": "error",
     "traceback": [
      "\u001b[1;31m---------------------------------------------------------------------------\u001b[0m",
      "\u001b[1;31mValueError\u001b[0m                                Traceback (most recent call last)",
      "\u001b[1;32mc:\\Users\\playg\\OneDrive\\Desktop\\hackerton\\HackingOneTool_ebiz_hackathon23\\후반전\\distance.ipynb 셀 1\u001b[0m line \u001b[0;36m1\n\u001b[1;32m----> <a href='vscode-notebook-cell:/c%3A/Users/playg/OneDrive/Desktop/hackerton/HackingOneTool_ebiz_hackathon23/%ED%9B%84%EB%B0%98%EC%A0%84/distance.ipynb#W3sZmlsZQ%3D%3D?line=0'>1</a>\u001b[0m n \u001b[39m=\u001b[39m \u001b[39mint\u001b[39;49m(\u001b[39minput\u001b[39;49m(\u001b[39m'\u001b[39;49m\u001b[39m도착지에 할당된 값을 입력해주세요:\u001b[39;49m\u001b[39m'\u001b[39;49m ))\n\u001b[0;32m      <a href='vscode-notebook-cell:/c%3A/Users/playg/OneDrive/Desktop/hackerton/HackingOneTool_ebiz_hackathon23/%ED%9B%84%EB%B0%98%EC%A0%84/distance.ipynb#W3sZmlsZQ%3D%3D?line=1'>2</a>\u001b[0m factors \u001b[39m=\u001b[39m []\n\u001b[0;32m      <a href='vscode-notebook-cell:/c%3A/Users/playg/OneDrive/Desktop/hackerton/HackingOneTool_ebiz_hackathon23/%ED%9B%84%EB%B0%98%EC%A0%84/distance.ipynb#W3sZmlsZQ%3D%3D?line=3'>4</a>\u001b[0m \u001b[39m# n을 인수분해하여 인수들을 리스트에 저장\u001b[39;00m\n",
      "\u001b[1;31mValueError\u001b[0m: invalid literal for int() with base 10: ''"
     ]
    }
   ],
   "source": [
    "n = int(input('도착지에 할당된 값을 입력해주세요:' ))\n",
    "# 인수를 저장할 리스트 변수 설정\n",
    "factors = []\n",
    "# n을 인수분해하여 인수들을 리스트에 저장\n",
    "for i in range(1, n + 1):\n",
    "    if n % i == 0:\n",
    "        factors.append(i)\n",
    "\n",
    "# 약수들을 가장 작은 약수와 가장 큰 약수부터 차례대로 묶어서 저장\n",
    "factor_pairs = []\n",
    "left, right = 0, len(factors) - 1\n",
    "while left <= right:\n",
    "    if left == right:\n",
    "        # 길이가 홀수일 때 가운데 값을 두 번 저장 ex)16의 경우 1,2,4,8,16 이기 때문에 4를 두번 저장\n",
    "        factor_pairs.append([factors[left], factors[left]])\n",
    "    else:\n",
    "        factor_pairs.append([factors[left], factors[right]])\n",
    "    left += 1\n",
    "    right -= 1\n",
    "\n",
    "# 묶음들을 최소의 합으로 정렬\n",
    "factor_pairs.sort(key=lambda pair: sum(pair))\n",
    "\n",
    "# 결과 출력\n",
    "print(factor_pairs)\n",
    "\n",
    "sums = [sum(pair) for pair in factor_pairs]\n",
    "min_sum = min(sums)\n",
    "print(min_sum-2)\n",
    "\n"
   ]
  },
  {
   "cell_type": "code",
   "execution_count": null,
   "metadata": {},
   "outputs": [],
   "source": []
  }
 ],
 "metadata": {
  "kernelspec": {
   "display_name": "Python 3",
   "language": "python",
   "name": "python3"
  },
  "language_info": {
   "codemirror_mode": {
    "name": "ipython",
    "version": 3
   },
   "file_extension": ".py",
   "mimetype": "text/x-python",
   "name": "python",
   "nbconvert_exporter": "python",
   "pygments_lexer": "ipython3",
   "version": "3.11.4"
  }
 },
 "nbformat": 4,
 "nbformat_minor": 2
}
