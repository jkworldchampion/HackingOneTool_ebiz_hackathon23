{
 "cells": [
  {
   "cell_type": "code",
   "execution_count": 4,
   "metadata": {},
   "outputs": [
    {
     "name": "stdout",
     "output_type": "stream",
     "text": [
      "[[3, 4], [2, 6], [1, 12]]\n",
      "5\n"
     ]
    }
   ],
   "source": [
    "n = int(input('도착지에 할당된 값을 입력해주세요:' ))\n",
    "    factors = []\n",
    "    \n",
    "    # n을 인수분해하여 인수들을 리스트에 저장\n",
    "    for i in range(1, n + 1):\n",
    "        if n % i == 0:\n",
    "            factors.append(i)\n",
    "    \n",
    "    # 약수들을 가장 작은 약수와 가장 큰 약수부터 차례대로 묶어서 저장\n",
    "    factor_pairs = []\n",
    "    left, right = 0, len(factors) - 1\n",
    "    while left <= right:\n",
    "        if left == right:\n",
    "            # 길이가 홀수일 때 가운데 값을 두 번 저장\n",
    "            factor_pairs.append([factors[left], factors[left]])\n",
    "        else:\n",
    "            factor_pairs.append([factors[left], factors[right]])\n",
    "        left += 1\n",
    "        right -= 1\n",
    "\n",
    "    # 묶음들을 최소의 합으로 정렬\n",
    "    factor_pairs.sort(key=lambda pair: sum(pair))\n",
    "    \n",
    "    # 결과 출력\n",
    "    print(factor_pairs)\n",
    "\n",
    "    sums = [sum(pair) for pair in factor_pairs]\n",
    "    min_sum = min(sums)\n",
    "    print(min_sum-2)\n",
    "\n",
    "find_smallest_sum_of_factors(12)"
   ]
  }
 ],
 "metadata": {
  "kernelspec": {
   "display_name": "Python 3",
   "language": "python",
   "name": "python3"
  },
  "language_info": {
   "codemirror_mode": {
    "name": "ipython",
    "version": 3
   },
   "file_extension": ".py",
   "mimetype": "text/x-python",
   "name": "python",
   "nbconvert_exporter": "python",
   "pygments_lexer": "ipython3",
   "version": "3.11.4"
  }
 },
 "nbformat": 4,
 "nbformat_minor": 2
}
