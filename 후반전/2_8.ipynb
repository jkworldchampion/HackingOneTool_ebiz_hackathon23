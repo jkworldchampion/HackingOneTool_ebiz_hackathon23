{
 "cells": [
  {
   "cell_type": "code",
   "execution_count": 57,
   "metadata": {},
   "outputs": [
    {
     "name": "stdout",
     "output_type": "stream",
     "text": [
      "[[0 0 0]\n",
      " [0 0 0]\n",
      " [0 0 0]]\n",
      "동서남북에서 보이는 도시의 높이를 유지하면서 사용할 수 있는 최대 추가 블록 수: 0\n"
     ]
    }
   ],
   "source": [
    "import numpy as np\n",
    "\n",
    "# 블럭 받침대 사이즈 n값 입력받기\n",
    "n = int(input(\"블럭 받침대 사이즈를 입력해주세요 (n x n): \"))\n",
    "\n",
    "# 블럭배열 변수 지정\n",
    "skyline = []\n",
    "# 각 행별로 블럭 높이 입력받기\n",
    "for i in range(n):\n",
    "    # 공백 없이 문자열로 높이를 입력받기\n",
    "    row_str = input(f\"{i+1}번째 행의 블럭 높이를 입력해주세요 :\")\n",
    "    # n개이상의 문자가 입력될 경우 오류 표시 \n",
    "    if len(row_str) != n:\n",
    "        raise ValueError(f\"각 행은 정확히 {n}개의 높이 값을 가져야 합니다.\")\n",
    "    if not row_str.isdigit():\n",
    "        raise ValueError(\"입력된 값 중 숫자가 아닌 문자가 포함되어 있습니다.\")\n",
    "    # 문자열의 각 문자를 정수형 리스트로 변환\n",
    "    row = [int(height_str) for height_str in row_str]\n",
    "    skyline.append(row)\n",
    "\n",
    "skyline = np.array(skyline)\n",
    "print(skyline)\n",
    "\n",
    "# 각 행과 각 열의 최댓값 계산\n",
    "max_val_rows = np.max(skyline, axis=1)\n",
    "max_val_columns = np.max(skyline, axis=0)\n",
    "\n",
    "# 추가로 사용할 수 있는 레고 블록의 수를 계산\n",
    "additional_blocks = 0\n",
    "\n",
    "# 각 칸에 대해 추가할 수 있는 레고 블록의 수 계산\n",
    "for i in range(n):\n",
    "    for j in range(n):\n",
    "        # 각 칸의 최대 높이는 그 칸이 포함된 행과 열의 최대 높이 중 작은 값\n",
    "        max_val_for_cell = min(max_val_rows[i], max_val_columns[j])\n",
    "        # 현재 칸에 추가로 쌓을 수 있는 블록 수를 계산\n",
    "        additional_blocks += max_val_for_cell - skyline[i, j]\n",
    "\n",
    "print(\"동서남북에서 보이는 도시의 높이를 유지하면서 사용할 수 있는 최대 추가 블록 수:\", additional_blocks)\n"
   ]
  }
 ],
 "metadata": {
  "kernelspec": {
   "display_name": "Python 3",
   "language": "python",
   "name": "python3"
  },
  "language_info": {
   "codemirror_mode": {
    "name": "ipython",
    "version": 3
   },
   "file_extension": ".py",
   "mimetype": "text/x-python",
   "name": "python",
   "nbconvert_exporter": "python",
   "pygments_lexer": "ipython3",
   "version": "3.11.4"
  }
 },
 "nbformat": 4,
 "nbformat_minor": 2
}
